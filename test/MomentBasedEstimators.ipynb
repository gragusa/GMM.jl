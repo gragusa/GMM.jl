{
 "metadata": {
  "name": ""
 },
 "nbformat": 3,
 "nbformat_minor": 0,
 "worksheets": [
  {
   "cells": [
    {
     "cell_type": "raw",
     "metadata": {},
     "source": [
      "# MomentBasedEstimators\n",
      "\n",
      "The Julia package `MomentBasedEstimators` implements estimation techniques for parameters that are solution to moment equation of the type:\n",
      "\n",
      "\\begin{equation}\n",
      "E\\left[ g(x, \\theta_0) \\right] = 0,\n",
      "\\end{equation}\n",
      "\n",
      "where $g(\\cdot, \\cdot)$ is the _moment function_ and $\\theta_0$ is parameter to be estimated. \n",
      "\n",
      "There are many different estimators that can be used to estimate $\\theta_0$ given a sample of observations. The most commonly employed estimator is the Generalized Method of Moment of Hansen (1982)\n"
     ]
    },
    {
     "cell_type": "code",
     "collapsed": false,
     "input": [
      "using MomentBasedEstimators\n",
      "using ModelsGenerators\n",
      "\n",
      "srand(1)\n",
      "y,x,z=randiv(100)\n",
      "xb = randn(100,2)\n",
      "x = [x xb]\n",
      "z = [z xb]\n",
      "\n",
      "f(theta) = z.*(y-x*theta);\n",
      "\n",
      "g = MomentBasedEstimators.GMMEstimator(f, [.1, 0, 0])\n",
      "m = MomentBasedEstimators.MDEstimator(f, [.1, 0, 0])\n",
      "\n",
      "estimate!(g);\n",
      "estimate!(m);\n"
     ],
     "language": "python",
     "metadata": {},
     "outputs": [
      {
       "output_type": "stream",
       "stream": "stderr",
       "text": [
        "Warning: New definition \n",
        "    ^(GraDual"
       ]
      },
      {
       "output_type": "stream",
       "stream": "stderr",
       "text": [
        "{T1<:Real,n},T2<:Real) at /Users/gragusa/.julia/v0.3/ForwardDiff/src/typed_fad/GraDual.jl:145\n",
        "is ambiguous with: \n",
        "    ^(T<:Number,T<:Number) at promotion.jl:192.\n",
        "To fix, define \n",
        "    ^(_<:GraDual{T1<:Real,n},_<:GraDual{T1<:Real,n})\n",
        "before the new definition.\n",
        "Warning: New definition \n",
        "    ^("
       ]
      },
      {
       "output_type": "stream",
       "stream": "stderr",
       "text": [
        "FADHessian{T1<:Real,n},T2<:Real) at /Users/gragusa/.julia/v0.3/ForwardDiff/src/typed_fad/FADHessian.jl:155\n",
        "is ambiguous with: \n",
        "    ^(T<:Number,T<:Number) at promotion.jl:192.\n",
        "To fix, define \n",
        "    ^(_<:FADHessian{T1<:Real,n},_<:FADHessian{T1<:Real,n})\n",
        "before the new definition.\n",
        "Warning: New definition \n",
        "    ^("
       ]
      },
      {
       "output_type": "stream",
       "stream": "stderr",
       "text": [
        "FADTensor{T1<:Real,n},T2<:Real) at /Users/gragusa/.julia/v0.3/ForwardDiff/src/typed_fad/FADTensor.jl:215\n",
        "is ambiguous with: \n",
        "    ^(T<:Number,T<:Number) at promotion.jl:192.\n",
        "To fix, define \n",
        "    ^(_<:FADTensor{T1<:Real,n},_<:FADTensor{T1<:Real,n})\n",
        "before the new definition.\n"
       ]
      },
      {
       "metadata": {},
       "output_type": "pyout",
       "prompt_number": 2,
       "text": [
        ":Initialized"
       ]
      }
     ],
     "prompt_number": 2
    }
   ],
   "metadata": {}
  }
 ]
}